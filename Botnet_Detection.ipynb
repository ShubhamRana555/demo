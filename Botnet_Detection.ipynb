{
  "cells": [
    {
      "cell_type": "markdown",
      "metadata": {
        "id": "view-in-github",
        "colab_type": "text"
      },
      "source": [
        "<a href=\"https://colab.research.google.com/github/ShubhamRana555/demo/blob/Machine-Learning-Projects/Botnet_Detection.ipynb\" target=\"_parent\"><img src=\"https://colab.research.google.com/assets/colab-badge.svg\" alt=\"Open In Colab\"/></a>"
      ]
    },
    {
      "cell_type": "markdown",
      "metadata": {
        "id": "36fBwaDHpxa4"
      },
      "source": [
        "#BOTNET DETECTION\n"
      ]
    },
    {
      "cell_type": "markdown",
      "metadata": {
        "id": "84rJSD9kqjas"
      },
      "source": [
        "**LOADING OF THE DATASET**"
      ]
    },
    {
      "cell_type": "code",
      "execution_count": null,
      "metadata": {
        "colab": {
          "base_uri": "https://localhost:8080/",
          "height": 299
        },
        "id": "uyIrmQQTetiB",
        "outputId": "c2073bc6-2d94-4eb6-91d7-c3dcba66d1c5"
      },
      "outputs": [
        {
          "data": {
            "text/html": [
              "\n",
              "     <input type=\"file\" id=\"files-79e53b3b-245a-4ca1-b0d0-0f8ae98aaa28\" name=\"files[]\" multiple disabled\n",
              "        style=\"border:none\" />\n",
              "     <output id=\"result-79e53b3b-245a-4ca1-b0d0-0f8ae98aaa28\">\n",
              "      Upload widget is only available when the cell has been executed in the\n",
              "      current browser session. Please rerun this cell to enable.\n",
              "      </output>\n",
              "      <script>// Copyright 2017 Google LLC\n",
              "//\n",
              "// Licensed under the Apache License, Version 2.0 (the \"License\");\n",
              "// you may not use this file except in compliance with the License.\n",
              "// You may obtain a copy of the License at\n",
              "//\n",
              "//      http://www.apache.org/licenses/LICENSE-2.0\n",
              "//\n",
              "// Unless required by applicable law or agreed to in writing, software\n",
              "// distributed under the License is distributed on an \"AS IS\" BASIS,\n",
              "// WITHOUT WARRANTIES OR CONDITIONS OF ANY KIND, either express or implied.\n",
              "// See the License for the specific language governing permissions and\n",
              "// limitations under the License.\n",
              "\n",
              "/**\n",
              " * @fileoverview Helpers for google.colab Python module.\n",
              " */\n",
              "(function(scope) {\n",
              "function span(text, styleAttributes = {}) {\n",
              "  const element = document.createElement('span');\n",
              "  element.textContent = text;\n",
              "  for (const key of Object.keys(styleAttributes)) {\n",
              "    element.style[key] = styleAttributes[key];\n",
              "  }\n",
              "  return element;\n",
              "}\n",
              "\n",
              "// Max number of bytes which will be uploaded at a time.\n",
              "const MAX_PAYLOAD_SIZE = 100 * 1024;\n",
              "\n",
              "function _uploadFiles(inputId, outputId) {\n",
              "  const steps = uploadFilesStep(inputId, outputId);\n",
              "  const outputElement = document.getElementById(outputId);\n",
              "  // Cache steps on the outputElement to make it available for the next call\n",
              "  // to uploadFilesContinue from Python.\n",
              "  outputElement.steps = steps;\n",
              "\n",
              "  return _uploadFilesContinue(outputId);\n",
              "}\n",
              "\n",
              "// This is roughly an async generator (not supported in the browser yet),\n",
              "// where there are multiple asynchronous steps and the Python side is going\n",
              "// to poll for completion of each step.\n",
              "// This uses a Promise to block the python side on completion of each step,\n",
              "// then passes the result of the previous step as the input to the next step.\n",
              "function _uploadFilesContinue(outputId) {\n",
              "  const outputElement = document.getElementById(outputId);\n",
              "  const steps = outputElement.steps;\n",
              "\n",
              "  const next = steps.next(outputElement.lastPromiseValue);\n",
              "  return Promise.resolve(next.value.promise).then((value) => {\n",
              "    // Cache the last promise value to make it available to the next\n",
              "    // step of the generator.\n",
              "    outputElement.lastPromiseValue = value;\n",
              "    return next.value.response;\n",
              "  });\n",
              "}\n",
              "\n",
              "/**\n",
              " * Generator function which is called between each async step of the upload\n",
              " * process.\n",
              " * @param {string} inputId Element ID of the input file picker element.\n",
              " * @param {string} outputId Element ID of the output display.\n",
              " * @return {!Iterable<!Object>} Iterable of next steps.\n",
              " */\n",
              "function* uploadFilesStep(inputId, outputId) {\n",
              "  const inputElement = document.getElementById(inputId);\n",
              "  inputElement.disabled = false;\n",
              "\n",
              "  const outputElement = document.getElementById(outputId);\n",
              "  outputElement.innerHTML = '';\n",
              "\n",
              "  const pickedPromise = new Promise((resolve) => {\n",
              "    inputElement.addEventListener('change', (e) => {\n",
              "      resolve(e.target.files);\n",
              "    });\n",
              "  });\n",
              "\n",
              "  const cancel = document.createElement('button');\n",
              "  inputElement.parentElement.appendChild(cancel);\n",
              "  cancel.textContent = 'Cancel upload';\n",
              "  const cancelPromise = new Promise((resolve) => {\n",
              "    cancel.onclick = () => {\n",
              "      resolve(null);\n",
              "    };\n",
              "  });\n",
              "\n",
              "  // Wait for the user to pick the files.\n",
              "  const files = yield {\n",
              "    promise: Promise.race([pickedPromise, cancelPromise]),\n",
              "    response: {\n",
              "      action: 'starting',\n",
              "    }\n",
              "  };\n",
              "\n",
              "  cancel.remove();\n",
              "\n",
              "  // Disable the input element since further picks are not allowed.\n",
              "  inputElement.disabled = true;\n",
              "\n",
              "  if (!files) {\n",
              "    return {\n",
              "      response: {\n",
              "        action: 'complete',\n",
              "      }\n",
              "    };\n",
              "  }\n",
              "\n",
              "  for (const file of files) {\n",
              "    const li = document.createElement('li');\n",
              "    li.append(span(file.name, {fontWeight: 'bold'}));\n",
              "    li.append(span(\n",
              "        `(${file.type || 'n/a'}) - ${file.size} bytes, ` +\n",
              "        `last modified: ${\n",
              "            file.lastModifiedDate ? file.lastModifiedDate.toLocaleDateString() :\n",
              "                                    'n/a'} - `));\n",
              "    const percent = span('0% done');\n",
              "    li.appendChild(percent);\n",
              "\n",
              "    outputElement.appendChild(li);\n",
              "\n",
              "    const fileDataPromise = new Promise((resolve) => {\n",
              "      const reader = new FileReader();\n",
              "      reader.onload = (e) => {\n",
              "        resolve(e.target.result);\n",
              "      };\n",
              "      reader.readAsArrayBuffer(file);\n",
              "    });\n",
              "    // Wait for the data to be ready.\n",
              "    let fileData = yield {\n",
              "      promise: fileDataPromise,\n",
              "      response: {\n",
              "        action: 'continue',\n",
              "      }\n",
              "    };\n",
              "\n",
              "    // Use a chunked sending to avoid message size limits. See b/62115660.\n",
              "    let position = 0;\n",
              "    do {\n",
              "      const length = Math.min(fileData.byteLength - position, MAX_PAYLOAD_SIZE);\n",
              "      const chunk = new Uint8Array(fileData, position, length);\n",
              "      position += length;\n",
              "\n",
              "      const base64 = btoa(String.fromCharCode.apply(null, chunk));\n",
              "      yield {\n",
              "        response: {\n",
              "          action: 'append',\n",
              "          file: file.name,\n",
              "          data: base64,\n",
              "        },\n",
              "      };\n",
              "\n",
              "      let percentDone = fileData.byteLength === 0 ?\n",
              "          100 :\n",
              "          Math.round((position / fileData.byteLength) * 100);\n",
              "      percent.textContent = `${percentDone}% done`;\n",
              "\n",
              "    } while (position < fileData.byteLength);\n",
              "  }\n",
              "\n",
              "  // All done.\n",
              "  yield {\n",
              "    response: {\n",
              "      action: 'complete',\n",
              "    }\n",
              "  };\n",
              "}\n",
              "\n",
              "scope.google = scope.google || {};\n",
              "scope.google.colab = scope.google.colab || {};\n",
              "scope.google.colab._files = {\n",
              "  _uploadFiles,\n",
              "  _uploadFilesContinue,\n",
              "};\n",
              "})(self);\n",
              "</script> "
            ],
            "text/plain": [
              "<IPython.core.display.HTML object>"
            ]
          },
          "metadata": {},
          "output_type": "display_data"
        },
        {
          "name": "stdout",
          "output_type": "stream",
          "text": [
            "Saving kaggle.json to kaggle.json\n",
            "Warning: Your Kaggle API key is readable by other users on this system! To fix this, you can run 'chmod 600 /content/kaggle.json'\n",
            "Downloading unsw-nb15.zip to /content\n",
            " 87% 130M/149M [00:00<00:00, 167MB/s]\n",
            "100% 149M/149M [00:00<00:00, 157MB/s]\n",
            "Archive:  unsw-nb15.zip\n",
            "  inflating: NUSW-NB15_features.csv  \n",
            "  inflating: UNSW-NB15_1.csv         \n",
            "  inflating: UNSW-NB15_2.csv         \n",
            "  inflating: UNSW-NB15_3.csv         \n",
            "  inflating: UNSW-NB15_4.csv         \n",
            "  inflating: UNSW-NB15_LIST_EVENTS.csv  \n",
            "  inflating: UNSW_NB15_testing-set.csv  \n",
            "  inflating: UNSW_NB15_training-set.csv  \n"
          ]
        }
      ],
      "source": [
        "# import os\n",
        "# os.environ['KAGGLE_CONFIG_DIR']='/content'\n",
        "#install kaggle\n",
        "!pip install -q kaggle\n",
        "# import os\n",
        "# os.environ['KAGGLE_CONFIG_DIR']='/content/gdrive/MyDrive/kaggle_datasets'\n",
        "from google.colab import files\n",
        "files.upload()\n",
        "#create a kaggle folder\n",
        "!mkdir ~/.kaggle\n",
        "#copy the kaggle.json to folder created\n",
        "! cp kaggle.json ~/.kaggle/\n",
        "# !kaggle datasets download -d dongeorge/seed-from-uci \n",
        "#permission for json to act\n",
        "! chmod 600 ~/.kaggle/kaggle.json\n",
        "! kaggle datasets download -d mrwellsdavid/unsw-nb15\n",
        "!unzip \\*.zip && rm *.zip"
      ]
    },
    {
      "cell_type": "code",
      "execution_count": null,
      "metadata": {
        "colab": {
          "base_uri": "https://localhost:8080/"
        },
        "id": "IxPD2BW0fkje",
        "outputId": "13b2e218-98fa-4b84-f35b-4759518dbf32"
      },
      "outputs": [
        {
          "name": "stdout",
          "output_type": "stream",
          "text": [
            "Traceback (most recent call last):\n",
            "  File \"/usr/local/bin/kaggle\", line 5, in <module>\n",
            "    from kaggle.cli import main\n",
            "  File \"/usr/local/lib/python3.10/dist-packages/kaggle/__init__.py\", line 23, in <module>\n",
            "    api.authenticate()\n",
            "  File \"/usr/local/lib/python3.10/dist-packages/kaggle/api/kaggle_api_extended.py\", line 164, in authenticate\n",
            "    raise IOError('Could not find {}. Make sure it\\'s located in'\n",
            "OSError: Could not find kaggle.json. Make sure it's located in /content. Or use the environment method.\n"
          ]
        }
      ],
      "source": [
        "!kaggle datasets download -d mrwellsdavid/unsw-nb15"
      ]
    },
    {
      "cell_type": "code",
      "execution_count": null,
      "metadata": {
        "colab": {
          "base_uri": "https://localhost:8080/"
        },
        "id": "MaZWDkajgFv7",
        "outputId": "b38d8641-d5aa-4bcc-a338-ebfb362d7bb5"
      },
      "outputs": [
        {
          "name": "stdout",
          "output_type": "stream",
          "text": [
            "unzip:  cannot find or open *.zip, *.zip.zip or *.zip.ZIP.\n",
            "\n",
            "No zipfiles found.\n"
          ]
        }
      ],
      "source": [
        "!unzip \\*.zip && rm *.zip"
      ]
    },
    {
      "cell_type": "code",
      "execution_count": null,
      "metadata": {
        "id": "vrA-LjR0gn9L"
      },
      "outputs": [],
      "source": [
        "import warnings; warnings.simplefilter('ignore')\n",
        "from sklearn.preprocessing import StandardScaler\n",
        "import numpy as np \n",
        "import pandas as pd\n",
        "from sklearn.decomposition import PCA\n",
        "from sklearn.neighbors import KNeighborsClassifier\n",
        "from sklearn.ensemble import RandomForestClassifier"
      ]
    },
    {
      "cell_type": "markdown",
      "metadata": {
        "id": "x22YhQVlq3ts"
      },
      "source": [
        "**DATA PREPROCESSING**"
      ]
    },
    {
      "cell_type": "code",
      "execution_count": null,
      "metadata": {
        "colab": {
          "base_uri": "https://localhost:8080/"
        },
        "id": "vZnIQr1riswy",
        "outputId": "cff3c04d-544c-41a2-d577-bc3e73cb5533"
      },
      "outputs": [
        {
          "name": "stdout",
          "output_type": "stream",
          "text": [
            "Train test sets are reversed. Fixing. \n",
            "Dropping attack_cat\n",
            "Dropping id\n",
            "Dropping response_body_len\n",
            "Dropping spkts\n",
            "Dropping ct_flw_http_mthd\n",
            "Dropping trans_depth\n",
            "Dropping dwin\n",
            "Dropping ct_ftp_cmd\n",
            "Dropping is_ftp_login\n",
            "Dropping attack_cat\n",
            "Dropping id\n",
            "Dropping response_body_len\n",
            "Dropping spkts\n",
            "Dropping ct_flw_http_mthd\n",
            "Dropping trans_depth\n",
            "Dropping dwin\n",
            "Dropping ct_ftp_cmd\n",
            "Dropping is_ftp_login\n"
          ]
        }
      ],
      "source": [
        "train = pd.read_csv('UNSW_NB15_training-set.csv')\n",
        "test = pd.read_csv('UNSW_NB15_testing-set.csv')\n",
        "if train.shape[0]<100000:\n",
        "    print(\"Train test sets are reversed. Fixing. \")\n",
        "    train, test = test, train\n",
        "\n",
        "# drop the unnecessory features from the dataset\n",
        "drop_columns = ['attack_cat', 'id'] + ['response_body_len', 'spkts', 'ct_flw_http_mthd', 'trans_depth', 'dwin', 'ct_ftp_cmd', 'is_ftp_login']\n",
        "for df in [train, test]:\n",
        "    for col in drop_columns:\n",
        "        if col in df.columns:\n",
        "            print('Dropping '+col)\n",
        "            df.drop([col], axis=1, inplace=True)"
      ]
    },
    {
      "cell_type": "code",
      "execution_count": null,
      "metadata": {
        "colab": {
          "base_uri": "https://localhost:8080/",
          "height": 299
        },
        "id": "HfYgvOkU_3JQ",
        "outputId": "e8186156-1a5a-4b28-eb9b-7eaf6330845e"
      },
      "outputs": [
        {
          "data": {
            "text/html": [
              "\n",
              "  <div id=\"df-f2d0d93c-51e7-4522-8117-a487975021ef\">\n",
              "    <div class=\"colab-df-container\">\n",
              "      <div>\n",
              "<style scoped>\n",
              "    .dataframe tbody tr th:only-of-type {\n",
              "        vertical-align: middle;\n",
              "    }\n",
              "\n",
              "    .dataframe tbody tr th {\n",
              "        vertical-align: top;\n",
              "    }\n",
              "\n",
              "    .dataframe thead th {\n",
              "        text-align: right;\n",
              "    }\n",
              "</style>\n",
              "<table border=\"1\" class=\"dataframe\">\n",
              "  <thead>\n",
              "    <tr style=\"text-align: right;\">\n",
              "      <th></th>\n",
              "      <th>dur</th>\n",
              "      <th>proto</th>\n",
              "      <th>service</th>\n",
              "      <th>state</th>\n",
              "      <th>dpkts</th>\n",
              "      <th>sbytes</th>\n",
              "      <th>dbytes</th>\n",
              "      <th>rate</th>\n",
              "      <th>sttl</th>\n",
              "      <th>dttl</th>\n",
              "      <th>...</th>\n",
              "      <th>ct_srv_src</th>\n",
              "      <th>ct_state_ttl</th>\n",
              "      <th>ct_dst_ltm</th>\n",
              "      <th>ct_src_dport_ltm</th>\n",
              "      <th>ct_dst_sport_ltm</th>\n",
              "      <th>ct_dst_src_ltm</th>\n",
              "      <th>ct_src_ltm</th>\n",
              "      <th>ct_srv_dst</th>\n",
              "      <th>is_sm_ips_ports</th>\n",
              "      <th>label</th>\n",
              "    </tr>\n",
              "  </thead>\n",
              "  <tbody>\n",
              "    <tr>\n",
              "      <th>0</th>\n",
              "      <td>0.121478</td>\n",
              "      <td>tcp</td>\n",
              "      <td>-</td>\n",
              "      <td>FIN</td>\n",
              "      <td>4</td>\n",
              "      <td>258</td>\n",
              "      <td>172</td>\n",
              "      <td>74.087490</td>\n",
              "      <td>252</td>\n",
              "      <td>254</td>\n",
              "      <td>...</td>\n",
              "      <td>1</td>\n",
              "      <td>0</td>\n",
              "      <td>1</td>\n",
              "      <td>1</td>\n",
              "      <td>1</td>\n",
              "      <td>1</td>\n",
              "      <td>1</td>\n",
              "      <td>1</td>\n",
              "      <td>0</td>\n",
              "      <td>0</td>\n",
              "    </tr>\n",
              "    <tr>\n",
              "      <th>1</th>\n",
              "      <td>0.649902</td>\n",
              "      <td>tcp</td>\n",
              "      <td>-</td>\n",
              "      <td>FIN</td>\n",
              "      <td>38</td>\n",
              "      <td>734</td>\n",
              "      <td>42014</td>\n",
              "      <td>78.473372</td>\n",
              "      <td>62</td>\n",
              "      <td>252</td>\n",
              "      <td>...</td>\n",
              "      <td>43</td>\n",
              "      <td>1</td>\n",
              "      <td>1</td>\n",
              "      <td>1</td>\n",
              "      <td>1</td>\n",
              "      <td>2</td>\n",
              "      <td>1</td>\n",
              "      <td>6</td>\n",
              "      <td>0</td>\n",
              "      <td>0</td>\n",
              "    </tr>\n",
              "    <tr>\n",
              "      <th>2</th>\n",
              "      <td>1.623129</td>\n",
              "      <td>tcp</td>\n",
              "      <td>-</td>\n",
              "      <td>FIN</td>\n",
              "      <td>16</td>\n",
              "      <td>364</td>\n",
              "      <td>13186</td>\n",
              "      <td>14.170161</td>\n",
              "      <td>62</td>\n",
              "      <td>252</td>\n",
              "      <td>...</td>\n",
              "      <td>7</td>\n",
              "      <td>1</td>\n",
              "      <td>2</td>\n",
              "      <td>1</td>\n",
              "      <td>1</td>\n",
              "      <td>3</td>\n",
              "      <td>2</td>\n",
              "      <td>6</td>\n",
              "      <td>0</td>\n",
              "      <td>0</td>\n",
              "    </tr>\n",
              "    <tr>\n",
              "      <th>3</th>\n",
              "      <td>1.681642</td>\n",
              "      <td>tcp</td>\n",
              "      <td>ftp</td>\n",
              "      <td>FIN</td>\n",
              "      <td>12</td>\n",
              "      <td>628</td>\n",
              "      <td>770</td>\n",
              "      <td>13.677108</td>\n",
              "      <td>62</td>\n",
              "      <td>252</td>\n",
              "      <td>...</td>\n",
              "      <td>1</td>\n",
              "      <td>1</td>\n",
              "      <td>2</td>\n",
              "      <td>1</td>\n",
              "      <td>1</td>\n",
              "      <td>3</td>\n",
              "      <td>2</td>\n",
              "      <td>1</td>\n",
              "      <td>0</td>\n",
              "      <td>0</td>\n",
              "    </tr>\n",
              "    <tr>\n",
              "      <th>4</th>\n",
              "      <td>0.449454</td>\n",
              "      <td>tcp</td>\n",
              "      <td>-</td>\n",
              "      <td>FIN</td>\n",
              "      <td>6</td>\n",
              "      <td>534</td>\n",
              "      <td>268</td>\n",
              "      <td>33.373826</td>\n",
              "      <td>254</td>\n",
              "      <td>252</td>\n",
              "      <td>...</td>\n",
              "      <td>43</td>\n",
              "      <td>1</td>\n",
              "      <td>2</td>\n",
              "      <td>2</td>\n",
              "      <td>1</td>\n",
              "      <td>40</td>\n",
              "      <td>2</td>\n",
              "      <td>39</td>\n",
              "      <td>0</td>\n",
              "      <td>0</td>\n",
              "    </tr>\n",
              "  </tbody>\n",
              "</table>\n",
              "<p>5 rows × 36 columns</p>\n",
              "</div>\n",
              "      <button class=\"colab-df-convert\" onclick=\"convertToInteractive('df-f2d0d93c-51e7-4522-8117-a487975021ef')\"\n",
              "              title=\"Convert this dataframe to an interactive table.\"\n",
              "              style=\"display:none;\">\n",
              "        \n",
              "  <svg xmlns=\"http://www.w3.org/2000/svg\" height=\"24px\"viewBox=\"0 0 24 24\"\n",
              "       width=\"24px\">\n",
              "    <path d=\"M0 0h24v24H0V0z\" fill=\"none\"/>\n",
              "    <path d=\"M18.56 5.44l.94 2.06.94-2.06 2.06-.94-2.06-.94-.94-2.06-.94 2.06-2.06.94zm-11 1L8.5 8.5l.94-2.06 2.06-.94-2.06-.94L8.5 2.5l-.94 2.06-2.06.94zm10 10l.94 2.06.94-2.06 2.06-.94-2.06-.94-.94-2.06-.94 2.06-2.06.94z\"/><path d=\"M17.41 7.96l-1.37-1.37c-.4-.4-.92-.59-1.43-.59-.52 0-1.04.2-1.43.59L10.3 9.45l-7.72 7.72c-.78.78-.78 2.05 0 2.83L4 21.41c.39.39.9.59 1.41.59.51 0 1.02-.2 1.41-.59l7.78-7.78 2.81-2.81c.8-.78.8-2.07 0-2.86zM5.41 20L4 18.59l7.72-7.72 1.47 1.35L5.41 20z\"/>\n",
              "  </svg>\n",
              "      </button>\n",
              "      \n",
              "  <style>\n",
              "    .colab-df-container {\n",
              "      display:flex;\n",
              "      flex-wrap:wrap;\n",
              "      gap: 12px;\n",
              "    }\n",
              "\n",
              "    .colab-df-convert {\n",
              "      background-color: #E8F0FE;\n",
              "      border: none;\n",
              "      border-radius: 50%;\n",
              "      cursor: pointer;\n",
              "      display: none;\n",
              "      fill: #1967D2;\n",
              "      height: 32px;\n",
              "      padding: 0 0 0 0;\n",
              "      width: 32px;\n",
              "    }\n",
              "\n",
              "    .colab-df-convert:hover {\n",
              "      background-color: #E2EBFA;\n",
              "      box-shadow: 0px 1px 2px rgba(60, 64, 67, 0.3), 0px 1px 3px 1px rgba(60, 64, 67, 0.15);\n",
              "      fill: #174EA6;\n",
              "    }\n",
              "\n",
              "    [theme=dark] .colab-df-convert {\n",
              "      background-color: #3B4455;\n",
              "      fill: #D2E3FC;\n",
              "    }\n",
              "\n",
              "    [theme=dark] .colab-df-convert:hover {\n",
              "      background-color: #434B5C;\n",
              "      box-shadow: 0px 1px 3px 1px rgba(0, 0, 0, 0.15);\n",
              "      filter: drop-shadow(0px 1px 2px rgba(0, 0, 0, 0.3));\n",
              "      fill: #FFFFFF;\n",
              "    }\n",
              "  </style>\n",
              "\n",
              "      <script>\n",
              "        const buttonEl =\n",
              "          document.querySelector('#df-f2d0d93c-51e7-4522-8117-a487975021ef button.colab-df-convert');\n",
              "        buttonEl.style.display =\n",
              "          google.colab.kernel.accessAllowed ? 'block' : 'none';\n",
              "\n",
              "        async function convertToInteractive(key) {\n",
              "          const element = document.querySelector('#df-f2d0d93c-51e7-4522-8117-a487975021ef');\n",
              "          const dataTable =\n",
              "            await google.colab.kernel.invokeFunction('convertToInteractive',\n",
              "                                                     [key], {});\n",
              "          if (!dataTable) return;\n",
              "\n",
              "          const docLinkHtml = 'Like what you see? Visit the ' +\n",
              "            '<a target=\"_blank\" href=https://colab.research.google.com/notebooks/data_table.ipynb>data table notebook</a>'\n",
              "            + ' to learn more about interactive tables.';\n",
              "          element.innerHTML = '';\n",
              "          dataTable['output_type'] = 'display_data';\n",
              "          await google.colab.output.renderOutput(dataTable, element);\n",
              "          const docLink = document.createElement('div');\n",
              "          docLink.innerHTML = docLinkHtml;\n",
              "          element.appendChild(docLink);\n",
              "        }\n",
              "      </script>\n",
              "    </div>\n",
              "  </div>\n",
              "  "
            ],
            "text/plain": [
              "        dur proto service state  dpkts  sbytes  dbytes       rate  sttl  dttl  \\\n",
              "0  0.121478   tcp       -   FIN      4     258     172  74.087490   252   254   \n",
              "1  0.649902   tcp       -   FIN     38     734   42014  78.473372    62   252   \n",
              "2  1.623129   tcp       -   FIN     16     364   13186  14.170161    62   252   \n",
              "3  1.681642   tcp     ftp   FIN     12     628     770  13.677108    62   252   \n",
              "4  0.449454   tcp       -   FIN      6     534     268  33.373826   254   252   \n",
              "\n",
              "   ...  ct_srv_src  ct_state_ttl  ct_dst_ltm  ct_src_dport_ltm  \\\n",
              "0  ...           1             0           1                 1   \n",
              "1  ...          43             1           1                 1   \n",
              "2  ...           7             1           2                 1   \n",
              "3  ...           1             1           2                 1   \n",
              "4  ...          43             1           2                 2   \n",
              "\n",
              "   ct_dst_sport_ltm  ct_dst_src_ltm  ct_src_ltm  ct_srv_dst  is_sm_ips_ports  \\\n",
              "0                 1               1           1           1                0   \n",
              "1                 1               2           1           6                0   \n",
              "2                 1               3           2           6                0   \n",
              "3                 1               3           2           1                0   \n",
              "4                 1              40           2          39                0   \n",
              "\n",
              "   label  \n",
              "0      0  \n",
              "1      0  \n",
              "2      0  \n",
              "3      0  \n",
              "4      0  \n",
              "\n",
              "[5 rows x 36 columns]"
            ]
          },
          "execution_count": 9,
          "metadata": {},
          "output_type": "execute_result"
        }
      ],
      "source": [
        "train.head()"
      ]
    },
    {
      "cell_type": "code",
      "execution_count": null,
      "metadata": {
        "id": "HGDY_DrQi19E"
      },
      "outputs": [],
      "source": [
        "#Converting less frequent data in the column to the others \n",
        "def feature_engineer(df):\n",
        "    df.loc[~df['state'].isin(['FIN', 'INT', 'CON', 'REQ', 'RST']), 'state'] = 'others'\n",
        "    df.loc[~df['service'].isin(['-', 'dns', 'http', 'smtp', 'ftp-data', 'ftp', 'ssh', 'pop3']), 'service'] = 'others'\n",
        "    df.loc[df['proto'].isin(['igmp', 'icmp', 'rtp']), 'proto'] = 'igmp_icmp_rtp'\n",
        "    df.loc[~df['proto'].isin(['tcp', 'udp', 'arp', 'ospf', 'igmp_icmp_rtp']), 'proto'] = 'others'\n",
        "    return df\n",
        "\n",
        "#Seperating categorical column form the non categorical column\n",
        "def get_cat_columns(train):\n",
        "    categorical = []\n",
        "    for col in train.columns:\n",
        "        if train[col].dtype == 'object':\n",
        "            categorical.append(col)\n",
        "    return categorical"
      ]
    },
    {
      "cell_type": "code",
      "execution_count": null,
      "metadata": {
        "id": "j7y3_hyFnCeB"
      },
      "outputs": [],
      "source": [
        "x_train, y_train = train.drop(['label'], axis=1), train['label']\n",
        "x_test, y_test = test.drop(['label'], axis=1), test['label']\n",
        "\n",
        "x_train, x_test = feature_engineer(x_train), feature_engineer(x_test)\n",
        "\n",
        "categorical_columns = get_cat_columns(x_train)\n",
        "non_categorical_columns = [x for x in x_train.columns if x not in categorical_columns]\n",
        "\n",
        "#feature scaling only applying on the non categorical data(numerical data)\n",
        "scaler = StandardScaler()\n",
        "x_train[non_categorical_columns] = scaler.fit_transform(x_train[non_categorical_columns])\n",
        "x_test[non_categorical_columns] = scaler.transform(x_test[non_categorical_columns])\n",
        "\n"
      ]
    },
    {
      "cell_type": "code",
      "execution_count": null,
      "metadata": {
        "colab": {
          "base_uri": "https://localhost:8080/"
        },
        "id": "WoWTFXCn7XYU",
        "outputId": "3e1bf809-bc99-45f7-8b66-2c6654710e08"
      },
      "outputs": [
        {
          "data": {
            "text/plain": [
              "['proto', 'service', 'state']"
            ]
          },
          "execution_count": 12,
          "metadata": {},
          "output_type": "execute_result"
        }
      ],
      "source": [
        "categorical_columns"
      ]
    },
    {
      "cell_type": "markdown",
      "metadata": {
        "id": "YxNcUcXnOocB"
      },
      "source": [
        "#Recursive feature elimination with cross-validation"
      ]
    },
    {
      "cell_type": "code",
      "execution_count": null,
      "metadata": {
        "colab": {
          "base_uri": "https://localhost:8080/"
        },
        "id": "ZADv_v5MuPi-",
        "outputId": "c3a9ada6-bb56-431f-f635-4bf9d6eef8c0"
      },
      "outputs": [
        {
          "name": "stdout",
          "output_type": "stream",
          "text": [
            "Index(['dur', 'dpkts', 'dbytes', 'rate', 'sttl', 'dttl', 'sload', 'dload',\n",
            "       'sloss', 'dloss', 'sinpkt', 'dinpkt', 'djit', 'swin', 'tcprtt',\n",
            "       'synack', 'ackdat', 'smean', 'dmean', 'ct_srv_src', 'ct_state_ttl',\n",
            "       'ct_dst_ltm', 'ct_src_dport_ltm', 'ct_dst_sport_ltm', 'ct_dst_src_ltm',\n",
            "       'ct_srv_dst', 'is_sm_ips_ports'],\n",
            "      dtype='object')\n"
          ]
        }
      ],
      "source": [
        "from sklearn.feature_selection import RFECV\n",
        "from sklearn.linear_model import LogisticRegression\n",
        "\n",
        "# Initialize the estimator (in this case, a logistic regression model)\n",
        "estimator = LogisticRegression()\n",
        "\n",
        "# Initialize the RFE object with cross-validation\n",
        "selector = RFECV(estimator, cv=5)\n",
        "\n",
        "# Fit the selector to the training data\n",
        "selector = selector.fit(x_train[non_categorical_columns], y_train)\n",
        "\n",
        "# Get the selected features\n",
        "selected_features = x_train[non_categorical_columns].columns[selector.support_]\n",
        "\n",
        "# Print the selected features\n",
        "print(selected_features)\n"
      ]
    },
    {
      "cell_type": "code",
      "execution_count": null,
      "metadata": {
        "colab": {
          "base_uri": "https://localhost:8080/"
        },
        "id": "DiNrxsmJIG4X",
        "outputId": "e3250235-b34b-4de1-8767-899103d4cbde"
      },
      "outputs": [
        {
          "name": "stdout",
          "output_type": "stream",
          "text": [
            "Dropping proto\n",
            "Dropping service\n",
            "Dropping state\n",
            "Dropping sbytes\n",
            "Dropping sjit\n",
            "Dropping stcpb\n",
            "Dropping dtcpb\n",
            "Dropping ct_src_ltm\n",
            "Dropping proto\n",
            "Dropping service\n",
            "Dropping state\n",
            "Dropping sbytes\n",
            "Dropping sjit\n",
            "Dropping stcpb\n",
            "Dropping dtcpb\n",
            "Dropping ct_src_ltm\n"
          ]
        }
      ],
      "source": [
        "for df in [train, test]:\n",
        "    for col in df.columns:\n",
        "        if col != 'label' and col not in selected_features:\n",
        "            print('Dropping ' + col)\n",
        "            df.drop([col], axis=1, inplace=True)\n"
      ]
    },
    {
      "cell_type": "markdown",
      "metadata": {
        "id": "Pyp9DYnv0Uk2"
      },
      "source": [
        "#Logistic Regression"
      ]
    },
    {
      "cell_type": "code",
      "execution_count": null,
      "metadata": {
        "colab": {
          "base_uri": "https://localhost:8080/"
        },
        "id": "Tlmk6sEU5fj4",
        "outputId": "6e9f4b63-df25-4453-e03d-317207251b01"
      },
      "outputs": [
        {
          "name": "stdout",
          "output_type": "stream",
          "text": [
            "Accuracy: 0.7783850750619443\n"
          ]
        }
      ],
      "source": [
        "from sklearn.linear_model import LogisticRegression\n",
        "\n",
        "# Create a new logistic regression model\n",
        "model = LogisticRegression(solver='liblinear', C=0.01)\n",
        "\n",
        "# Train the model on the selected features\n",
        "model.fit(x_train[selected_features], y_train)\n",
        "\n",
        "# Evaluate the model on the test set\n",
        "accuracy = model.score(x_test[selected_features], y_test)\n",
        "print(\"Accuracy:\", accuracy)\n"
      ]
    },
    {
      "cell_type": "code",
      "execution_count": null,
      "metadata": {
        "colab": {
          "base_uri": "https://localhost:8080/"
        },
        "id": "Eaw1UAyj-HOX",
        "outputId": "3103af07-6c07-4ed9-c795-3a57da87b87e"
      },
      "outputs": [
        {
          "name": "stdout",
          "output_type": "stream",
          "text": [
            "Precision: 0.7216240099495974\n",
            "Recall: 0.9727565516632842\n",
            "F-score: 0.8285794813979707\n"
          ]
        }
      ],
      "source": [
        "from sklearn.metrics import precision_score, recall_score, f1_score\n",
        "\n",
        "# Make predictions on the test set\n",
        "y_pred = model.predict(x_test[selected_features])\n",
        "\n",
        "# Calculate precision, recall, and F-score\n",
        "precision = precision_score(y_test, y_pred)\n",
        "recall = recall_score(y_test, y_pred)\n",
        "f_score = f1_score(y_test, y_pred)\n",
        "\n",
        "print('Precision:', precision)\n",
        "print('Recall:', recall)\n",
        "print('F-score:', f_score)\n"
      ]
    },
    {
      "cell_type": "markdown",
      "metadata": {
        "id": "-rLqV017KNr6"
      },
      "source": [
        "# K-Nearest Neighbors "
      ]
    },
    {
      "cell_type": "code",
      "execution_count": null,
      "metadata": {
        "colab": {
          "base_uri": "https://localhost:8080/"
        },
        "id": "bR54STTanDBK",
        "outputId": "b2098da6-f4fd-4ce5-8058-9eaec47610ea"
      },
      "outputs": [
        {
          "name": "stdout",
          "output_type": "stream",
          "text": [
            "Accuracy: 0.8371107224408493\n"
          ]
        }
      ],
      "source": [
        "knn = KNeighborsClassifier(n_neighbors=7)\n",
        "knn.fit(x_train[selected_features], y_train)\n",
        "\n",
        "accuracy = knn.score(x_test[selected_features], y_test)\n",
        "print('Accuracy:', accuracy)\n"
      ]
    },
    {
      "cell_type": "code",
      "execution_count": null,
      "metadata": {
        "colab": {
          "base_uri": "https://localhost:8080/"
        },
        "id": "eP05jm-391Sn",
        "outputId": "2a67da98-0a5e-4f64-9029-77805ad0ac3a"
      },
      "outputs": [
        {
          "name": "stdout",
          "output_type": "stream",
          "text": [
            "Precision: 0.8040384798552243\n",
            "Recall: 0.9310862084178947\n",
            "F-score: 0.8629110572745766\n"
          ]
        }
      ],
      "source": [
        "from sklearn.metrics import precision_score, recall_score, f1_score\n",
        "\n",
        "# Make predictions on the test set\n",
        "y_pred = knn.predict(x_test[selected_features])\n",
        "\n",
        "# Calculate precision, recall, and F-score\n",
        "precision = precision_score(y_test, y_pred)\n",
        "recall = recall_score(y_test, y_pred)\n",
        "f_score = f1_score(y_test, y_pred)\n",
        "\n",
        "print('Precision:', precision)\n",
        "print('Recall:', recall)\n",
        "print('F-score:', f_score)"
      ]
    },
    {
      "cell_type": "markdown",
      "metadata": {
        "id": "sIWB0_n808xC"
      },
      "source": [
        "#Random forest "
      ]
    },
    {
      "cell_type": "code",
      "execution_count": null,
      "metadata": {
        "colab": {
          "base_uri": "https://localhost:8080/"
        },
        "id": "HGxEwYxB0pWQ",
        "outputId": "4575e27c-ec7e-46bd-b5cc-d25316d8f381"
      },
      "outputs": [
        {
          "name": "stdout",
          "output_type": "stream",
          "text": [
            "Accuracy: 0.8711193703541757\n"
          ]
        }
      ],
      "source": [
        "from sklearn.metrics import accuracy_score\n",
        "model = RandomForestClassifier(n_estimators=50)\n",
        "\n",
        "# Fit the model on the training data\n",
        "model.fit(x_train[selected_features], y_train)\n",
        "\n",
        "# Make predictions on the test data\n",
        "y_pred = model.predict(x_test[selected_features])\n",
        "\n",
        "# Evaluate the accuracy of the model\n",
        "accuracy = accuracy_score(y_test, y_pred)\n",
        "print(\"Accuracy:\", accuracy)"
      ]
    },
    {
      "cell_type": "code",
      "execution_count": null,
      "metadata": {
        "colab": {
          "base_uri": "https://localhost:8080/"
        },
        "id": "7w6hWlbD-6x_",
        "outputId": "2e3f3fba-54ed-43a2-f7fe-42eeea8e70d1"
      },
      "outputs": [
        {
          "name": "stdout",
          "output_type": "stream",
          "text": [
            "Precision: 0.8185822032187621\n",
            "Recall: 0.9840068825553693\n",
            "F-score: 0.8937039819684448\n"
          ]
        }
      ],
      "source": [
        "from sklearn.metrics import precision_score, recall_score, f1_score\n",
        "\n",
        "# Make predictions on the test set\n",
        "y_pred = model.predict(x_test[selected_features])\n",
        "\n",
        "# Calculate precision, recall, and F-score\n",
        "precision = precision_score(y_test, y_pred)\n",
        "recall = recall_score(y_test, y_pred)\n",
        "f_score = f1_score(y_test, y_pred)\n",
        "\n",
        "print('Precision:', precision)\n",
        "print('Recall:', recall)\n",
        "print('F-score:', f_score)\n"
      ]
    },
    {
      "cell_type": "markdown",
      "metadata": {
        "id": "GJUDbHz_5s17"
      },
      "source": [
        "#GaussianNB"
      ]
    },
    {
      "cell_type": "code",
      "execution_count": null,
      "metadata": {
        "colab": {
          "base_uri": "https://localhost:8080/"
        },
        "id": "SXzX5ESA1gNK",
        "outputId": "f25801e0-14d5-4a11-d104-fdba2cf5f2c1"
      },
      "outputs": [
        {
          "name": "stdout",
          "output_type": "stream",
          "text": [
            "Accuracy: 0.7371374435213526\n"
          ]
        }
      ],
      "source": [
        "from sklearn.naive_bayes import GaussianNB\n",
        "from sklearn.metrics import accuracy_score\n",
        "\n",
        "# Create a Gaussian Naive Bayes classifier\n",
        "model = GaussianNB(var_smoothing=1e-6)\n",
        "\n",
        "# Fit the model on the training data\n",
        "model.fit(x_train[selected_features], y_train)\n",
        "\n",
        "# Make predictions on the test data\n",
        "y_pred = model.predict(x_test[selected_features])\n",
        "\n",
        "# Evaluate the accuracy of the model\n",
        "accuracy = accuracy_score(y_test, y_pred)\n",
        "print(\"Accuracy:\", accuracy)\n"
      ]
    },
    {
      "cell_type": "code",
      "execution_count": null,
      "metadata": {
        "colab": {
          "base_uri": "https://localhost:8080/"
        },
        "id": "2QOKOadN_Pjy",
        "outputId": "c44c22cf-155d-4885-aee6-dadb212792a5"
      },
      "outputs": [
        {
          "name": "stdout",
          "output_type": "stream",
          "text": [
            "Precision: 0.8185822032187621\n",
            "Recall: 0.9840068825553693\n",
            "F-score: 0.8937039819684448\n"
          ]
        }
      ],
      "source": [
        "from sklearn.metrics import precision_score, recall_score, f1_score\n",
        "\n",
        "# Make predictions on the test set\n",
        "y_pred = model.predict(x_test[selected_features])\n",
        "\n",
        "# Calculate precision, recall, and F-score\n",
        "precision = precision_score(y_test, y_pred)\n",
        "recall = recall_score(y_test, y_pred)\n",
        "f_score = f1_score(y_test, y_pred)\n",
        "\n",
        "print('Precision:', precision)\n",
        "print('Recall:', recall)\n",
        "print('F-score:', f_score)"
      ]
    },
    {
      "cell_type": "code",
      "execution_count": null,
      "metadata": {
        "id": "JazQLeBcBD7k"
      },
      "outputs": [],
      "source": []
    },
    {
      "cell_type": "markdown",
      "metadata": {
        "id": "3GivzS2xp-97"
      },
      "source": [
        "#Hybrid model "
      ]
    },
    {
      "cell_type": "code",
      "execution_count": null,
      "metadata": {
        "id": "lMPNgQntgAx_"
      },
      "outputs": [],
      "source": [
        "from sklearn.neighbors import KNeighborsClassifier\n",
        "from sklearn.ensemble import RandomForestClassifier\n",
        "from sklearn.linear_model import LogisticRegression\n",
        "from sklearn.metrics import accuracy_score\n",
        "from sklearn.model_selection import train_test_split\n",
        "\n",
        "\n",
        "# Instantiate the base classifiers\n",
        "knn = KNeighborsClassifier(n_neighbors=7)\n",
        "rf = RandomForestClassifier(n_estimators=50)\n",
        "\n",
        "# Train the base classifiers\n",
        "knn.fit(x_train[selected_features], y_train)\n",
        "rf.fit(x_train[selected_features], y_train)\n",
        "\n",
        "# Make predictions with the base classifiers\n",
        "knn_preds = knn.predict(x_test[selected_features])\n",
        "rf_preds = rf.predict(x_test[selected_features])\n",
        "\n",
        "# Concatenate the predictions as new features\n",
        "new_features = np.concatenate((knn_preds.reshape(-1,1), rf_preds.reshape(-1,1)), axis=1)\n",
        "\n",
        "# Instantiate the meta-classifier\n",
        "meta = LogisticRegression(C=0.01)\n",
        "\n",
        "# Train the meta-classifier on the new features\n",
        "meta.fit(new_features, y_test)\n",
        "\n",
        "# Make predictions with the hybrid model\n",
        "hybrid_preds = meta.predict(new_features)"
      ]
    },
    {
      "cell_type": "code",
      "execution_count": null,
      "metadata": {
        "colab": {
          "base_uri": "https://localhost:8080/"
        },
        "id": "fwFYrajbaa_r",
        "outputId": "557cae5f-59e5-48fd-af76-2bc9bb5ac73d"
      },
      "outputs": [
        {
          "name": "stdout",
          "output_type": "stream",
          "text": [
            "Accuracy: 0.8711193703541757\n",
            "Precision: 0.8190154174093607\n",
            "Recall: 0.9831906820788847\n",
            "F1-score: 0.8936251265651473\n"
          ]
        }
      ],
      "source": [
        "from sklearn.metrics import precision_score, recall_score, f1_score\n",
        "# Evaluate the hybrid model\n",
        "accuracy = accuracy_score(y_test, hybrid_preds)\n",
        "precision = precision_score(y_test, hybrid_preds)\n",
        "recall = recall_score(y_test, hybrid_preds)\n",
        "f1 = f1_score(y_test, hybrid_preds)\n",
        "\n",
        "# Print the evaluation metrics for the hybrid model\n",
        "print(\"Accuracy:\", accuracy)\n",
        "print(\"Precision:\", precision)\n",
        "print(\"Recall:\", recall)\n",
        "print(\"F1-score:\", f1)"
      ]
    },
    {
      "cell_type": "code",
      "execution_count": null,
      "metadata": {
        "colab": {
          "base_uri": "https://localhost:8080/",
          "height": 472
        },
        "id": "TDSumqS7i3n_",
        "outputId": "8c7ffd73-ab48-4da6-c47d-d6ebc64ed993"
      },
      "outputs": [
        {
          "data": {
            "image/png": "[encoded data removed]",
            "text/plain": [
              "<Figure size 640x480 with 1 Axes>"
            ]
          },
          "metadata": {},
          "output_type": "display_data"
        }
      ],
      "source": [
        "import matplotlib.pyplot as plt\n",
        "\n",
        "# Define the labels and values for the graph\n",
        "labels = ['KNN', 'Random Forest', 'Hybrid']\n",
        "values = [accuracy_score(y_test, knn_preds), accuracy_score(y_test, rf_preds), accuracy_score(y_test, hybrid_preds)]\n",
        "\n",
        "# Create a bar graph\n",
        "plt.bar(labels, values)\n",
        "\n",
        "# Set the title and axis labels\n",
        "plt.title('Accuracy Scores')\n",
        "plt.xlabel('Classifier')\n",
        "plt.ylabel('Accuracy')\n",
        "\n",
        "# Display the graph\n",
        "plt.show()\n"
      ]
    },
    {
      "cell_type": "code",
      "execution_count": null,
      "metadata": {
        "colab": {
          "base_uri": "https://localhost:8080/",
          "height": 472
        },
        "id": "CjdBT82-ePzo",
        "outputId": "d73cd0eb-a23b-4894-9fbf-95c893aa3f3f"
      },
      "outputs": [
        {
          "data": {
            "image/png": "[encoded data removed]",
            "text/plain": [
              "<Figure size 640x480 with 1 Axes>"
            ]
          },
          "metadata": {},
          "output_type": "display_data"
        }
      ],
      "source": [
        "from sklearn.metrics import accuracy_score, precision_score, recall_score, f1_score\n",
        "import matplotlib.pyplot as plt\n",
        "\n",
        "# Create a list of models\n",
        "models = ['Logistic Regression', 'KNN', 'Random Forest', 'Gaussian NB', 'Hybrid']\n",
        "\n",
        "# Create empty lists to store the performance metrics\n",
        "acc_scores = []\n",
        "prec_scores = []\n",
        "rec_scores = []\n",
        "f1_scores = []\n",
        "\n",
        "# Evaluate each model and store its performance metrics\n",
        "for model in [LogisticRegression(solver='liblinear', C=0.01), \n",
        "              KNeighborsClassifier(n_neighbors=7), \n",
        "              RandomForestClassifier(n_estimators=50), \n",
        "              GaussianNB(var_smoothing=1e-6), \n",
        "              meta]:\n",
        "    if model == meta:\n",
        "        model_preds = hybrid_preds\n",
        "    else:\n",
        "        model.fit(x_train[selected_features], y_train)\n",
        "        model_preds = model.predict(x_test[selected_features])\n",
        "        \n",
        "    acc_scores.append(accuracy_score(y_test, model_preds))\n",
        "    prec_scores.append(precision_score(y_test, model_preds))\n",
        "    rec_scores.append(recall_score(y_test, model_preds))\n",
        "    f1_scores.append(f1_score(y_test, model_preds))\n",
        "\n",
        "# Create a bar graph for each performance metric\n",
        "plt.bar(models, acc_scores, color='blue', alpha=0.5, label='Accuracy')\n",
        "plt.bar(models, prec_scores, color='green', alpha=0.5, label='Precision')\n",
        "plt.bar(models, rec_scores, color='red', alpha=0.5, label='Recall')\n",
        "plt.bar(models, f1_scores, color='purple', alpha=0.5, label='F1-score')\n",
        "\n",
        "# Set the title and axis labels\n",
        "plt.title('Performance Metrics Comparison')\n",
        "plt.xlabel('Model')\n",
        "plt.ylabel('Score')\n",
        "\n",
        "# Add a legend and display the graph\n",
        "plt.legend()\n",
        "plt.show()\n"
      ]
    },
    {
      "cell_type": "code",
      "execution_count": null,
      "metadata": {
        "colab": {
          "base_uri": "https://localhost:8080/",
          "height": 771
        },
        "id": "YIBZT2fIgChq",
        "outputId": "0bc38fff-92a8-4cf6-f9c8-b53056a8560a"
      },
      "outputs": [
        {
          "output_type": "display_data",
          "data": {
            "text/plain": [
              "<Figure size 1200x800 with 4 Axes>"
            ],
            "image/png": "[encoded data removed]"
          },
          "metadata": {}
        },
        {
          "output_type": "display_data",
          "data": {
            "text/plain": [
              "<Figure size 640x480 with 0 Axes>"
            ]
          },
          "metadata": {}
        }
      ],
      "source": [
        "from sklearn.metrics import accuracy_score, precision_score, recall_score, f1_score\n",
        "import matplotlib.pyplot as plt\n",
        "import numpy as np\n",
        "\n",
        "# Create a list of models\n",
        "models = ['Logistic Regression', 'KNN', 'Random Forest', 'Gaussian NB', 'Hybrid']\n",
        "\n",
        "# Create empty lists to store the performance metrics\n",
        "acc_scores = []\n",
        "prec_scores = []\n",
        "rec_scores = []\n",
        "f1_scores = []\n",
        "\n",
        "# Evaluate each model and store its performance metrics\n",
        "for model in [LogisticRegression(solver='liblinear', C=0.01),    \n",
        "              KNeighborsClassifier(n_neighbors=7),          \n",
        "              RandomForestClassifier(n_estimators=50),         \n",
        "              GaussianNB(var_smoothing=1e-6),        \n",
        "              meta]:\n",
        "    if model == meta:\n",
        "        model_preds = hybrid_preds\n",
        "    else:\n",
        "        model.fit(x_train[selected_features], y_train)\n",
        "        model_preds = model.predict(x_test[selected_features])\n",
        "        \n",
        "    acc_scores.append(accuracy_score(y_test, model_preds))\n",
        "    prec_scores.append(precision_score(y_test, model_preds))\n",
        "    rec_scores.append(recall_score(y_test, model_preds))\n",
        "    f1_scores.append(f1_score(y_test, model_preds))\n",
        "\n",
        "# Create a figure with 4 subplots for each performance metric\n",
        "fig, ((ax1, ax2), (ax3, ax4)) = plt.subplots(2, 2, figsize=(12, 8))\n",
        "\n",
        "# Set the title and axis labels for each subplot\n",
        "ax1.set_title('Accuracy')\n",
        "ax1.set_xlabel('Model')\n",
        "ax1.set_ylabel('Score')\n",
        "ax2.set_title('Precision')\n",
        "ax2.set_xlabel('Model')\n",
        "ax2.set_ylabel('Score')\n",
        "ax3.set_title('Recall')\n",
        "ax3.set_xlabel('Model')\n",
        "ax3.set_ylabel('Score')\n",
        "ax4.set_title('F1-score')\n",
        "ax4.set_xlabel('Model')\n",
        "ax4.set_ylabel('Score')\n",
        "\n",
        "# Set the color scheme for each performance metric\n",
        "colors = ['#1f77b4', '#2ca02c', '#d62728', '#9467bd']\n",
        "\n",
        "# Plot a bar graph for each performance metric\n",
        "ax1.bar(models, acc_scores, color=colors[0], label='Accuracy')\n",
        "ax2.bar(models, prec_scores, color=colors[1], label='Precision')\n",
        "ax3.bar(models, rec_scores, color=colors[2], label='Recall')\n",
        "ax4.bar(models, f1_scores, color=colors[3], label='F1-score')\n",
        "\n",
        "# Add text labels for each individual bar\n",
        "for i, model in enumerate(models):\n",
        "    ax1.text(i, acc_scores[i], \"{:.2f}\".format(acc_scores[i]), ha='center', va='bottom')\n",
        "    ax2.text(i, prec_scores[i], \"{:.2f}\".format(prec_scores[i]), ha='center', va='bottom')\n",
        "    ax3.text(i, rec_scores[i], \"{:.2f}\".format(rec_scores[i]), ha='center', va='bottom')\n",
        "    ax4.text(i, f1_scores[i], \"{:.2f}\".format(f1_scores[i]), ha='center', va='bottom')\n",
        "\n",
        "# Add a legend and display the graph\n",
        "plt.legend()\n",
        "plt.tight_layout()\n",
        "plt.show()\n",
        "\n",
        "# Export the graph to a PNG file\n",
        "plt.savefig('performance_metrics_comparison.png')\n"
      ]
    },
    {
      "cell_type": "code",
      "execution_count": null,
      "metadata": {
        "colab": {
          "base_uri": "https://localhost:8080/",
          "height": 771
        },
        "id": "DOhaSlSlhRyB",
        "outputId": "ebbd236b-ee8b-4b5a-fa10-fa535f9f481a"
      },
      "outputs": [
        {
          "output_type": "display_data",
          "data": {
            "text/plain": [
              "<Figure size 1200x800 with 1 Axes>"
            ],
            "image/png": "[encoded data removed]"
          },
          "metadata": {}
        },
        {
          "output_type": "display_data",
          "data": {
            "text/plain": [
              "<Figure size 640x480 with 0 Axes>"
            ]
          },
          "metadata": {}
        }
      ],
      "source": [
        "from sklearn.metrics import accuracy_score, precision_score, recall_score, f1_score\n",
        "import matplotlib.pyplot as plt\n",
        "import numpy as np\n",
        "\n",
        "# Create a list of models\n",
        "models = ['Logistic Regression', 'KNN', 'Random Forest', 'Gaussian NB', 'Hybrid']\n",
        "\n",
        "# Create empty lists to store the performance metrics\n",
        "acc_scores = []\n",
        "prec_scores = []\n",
        "rec_scores = []\n",
        "f1_scores = []\n",
        "\n",
        "# Evaluate each model and store its performance metrics\n",
        "for model in [LogisticRegression(solver='liblinear', C=0.01),    \n",
        "              KNeighborsClassifier(n_neighbors=7),          \n",
        "              RandomForestClassifier(n_estimators=50),         \n",
        "              GaussianNB(var_smoothing=1e-6),        \n",
        "              meta]:\n",
        "    if model == meta:\n",
        "        model_preds = hybrid_preds\n",
        "    else:\n",
        "        model.fit(x_train[selected_features], y_train)\n",
        "        model_preds = model.predict(x_test[selected_features])\n",
        "        \n",
        "    acc_scores.append(accuracy_score(y_test, model_preds))\n",
        "    prec_scores.append(precision_score(y_test, model_preds))\n",
        "    rec_scores.append(recall_score(y_test, model_preds))\n",
        "    f1_scores.append(f1_score(y_test, model_preds))\n",
        "\n",
        "# Create a figure with a single subplot for all performance metrics\n",
        "fig, ax = plt.subplots(figsize=(12, 8))\n",
        "\n",
        "# Set the title and axis labels\n",
        "ax.set_title('Performance Metrics Comparison')\n",
        "ax.set_xlabel('Model')\n",
        "ax.set_ylabel('Score')\n",
        "\n",
        "# Set the color scheme for each performance metric\n",
        "colors = ['#1f77b4', '#2ca02c', '#d62728', '#9467bd']\n",
        "\n",
        "# Plot a bar graph for each performance metric\n",
        "ax.bar(np.arange(len(models)) - 0.3, acc_scores, width=0.2, color=colors[0], label='Accuracy')\n",
        "ax.bar(np.arange(len(models)) - 0.1, prec_scores, width=0.2, color=colors[1], label='Precision')\n",
        "ax.bar(np.arange(len(models)) + 0.1, rec_scores, width=0.2, color=colors[2], label='Recall')\n",
        "ax.bar(np.arange(len(models)) + 0.3, f1_scores, width=0.2, color=colors[3], label='F1-score')\n",
        "\n",
        "# Add text labels for each individual bar\n",
        "for i, model in enumerate(models):\n",
        "    ax.text(i - 0.3, acc_scores[i], \"{:.2f}\".format(acc_scores[i]), ha='center', va='bottom')\n",
        "    ax.text(i - 0.1, prec_scores[i], \"{:.2f}\".format(prec_scores[i]), ha='center', va='bottom')\n",
        "    ax.text(i + 0.1, rec_scores[i], \"{:.2f}\".format(rec_scores[i]), ha='center', va='bottom')\n",
        "    ax.text(i + 0.3, f1_scores[i], \"{:.2f}\".format(f1_scores[i]), ha='center', va='bottom')\n",
        "\n",
        "# Set the x-axis tick labels to be the model names\n",
        "ax.set_xticks(np.arange(len(models)))\n",
        "ax.set_xticklabels(models)\n",
        "\n",
        "# Add a legend and display the graph\n",
        "plt.legend()\n",
        "plt.tight_layout()\n",
        "plt.show()\n",
        "\n",
        "# Export the graph to a PNG file\n",
        "plt.savefig('performance_metrics_comparison.png')\n"
      ]
    },
    {
      "cell_type": "code",
      "execution_count": null,
      "metadata": {
        "id": "VA5FO0u-l4uv"
      },
      "outputs": [],
      "source": []
    }
  ],
  "metadata": {
    "colab": {
      "provenance": [],
      "include_colab_link": true
    },
    "kernelspec": {
      "display_name": "Python 3",
      "name": "python3"
    },
    "language_info": {
      "name": "python"
    }
  },
  "nbformat": 4,
  "nbformat_minor": 0
}